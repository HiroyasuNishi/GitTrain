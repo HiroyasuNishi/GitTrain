{
 "cells": [
  {
   "cell_type": "code",
   "execution_count": 1,
   "metadata": {},
   "outputs": [],
   "source": [
    "import sympy"
   ]
  },
  {
   "cell_type": "code",
   "execution_count": 23,
   "metadata": {},
   "outputs": [],
   "source": [
    "#q1, q2, qg, n, e, C1, C2, Cg, V, Vg = sympy.symbols(['q1', 'q2', 'qg', 'n', 'e', 'C1', 'C2', 'Cg', 'V', 'Vg'])　これでもできる\n",
    "q1, q2, qg, n, e, C1, C2, Cg, V, Vg = sympy.symbols('q1 q2 qg n e C1 C2 Cg V Vg')\n",
    "sympy.init_printing()"
   ]
  },
  {
   "cell_type": "code",
   "execution_count": 24,
   "metadata": {},
   "outputs": [],
   "source": [
    "x = q1-q2-qg+n*e\n",
    "y = q1/C1+qg/Cg-Vg-V/2\n",
    "z = -q2/C2+qg/Cg-Vg+V/2"
   ]
  },
  {
   "cell_type": "code",
   "execution_count": 26,
   "metadata": {},
   "outputs": [
    {
     "data": {
      "image/png": "[encoded data removed]",
      "text/latex": [
       "$$\\left \\{ q_{1} : \\frac{C_{1}}{2 \\left(C_{1} + C_{2} + Cg\\right)} \\left(C_{2} \\left(V - 2 Vg\\right) - 2 e n + \\left(C_{2} + Cg\\right) \\left(V + 2 Vg\\right)\\right), \\quad q_{2} : \\frac{C_{2}}{2 \\left(C_{1} + C_{2} + Cg\\right)} \\left(2 C_{1} V + Cg V - 2 Cg Vg + 2 e n\\right), \\quad qg : \\frac{Cg}{2 \\left(C_{1} + C_{2} + Cg\\right)} \\left(C_{1} \\left(V + 2 Vg\\right) - C_{2} \\left(V - 2 Vg\\right) + 2 e n\\right)\\right \\}$$"
      ],
      "text/plain": [
       "⎧    C₁⋅(C₂⋅(V - 2⋅Vg) - 2⋅e⋅n + (C₂ + Cg)⋅(V + 2⋅Vg))      C₂⋅(2⋅C₁⋅V + Cg⋅V \n",
       "⎨q₁: ─────────────────────────────────────────────────, q₂: ──────────────────\n",
       "⎩                     2⋅(C₁ + C₂ + Cg)                                2⋅(C₁ + \n",
       "\n",
       "- 2⋅Cg⋅Vg + 2⋅e⋅n)      Cg⋅(C₁⋅(V + 2⋅Vg) - C₂⋅(V - 2⋅Vg) + 2⋅e⋅n)⎫\n",
       "──────────────────, qg: ──────────────────────────────────────────⎬\n",
       "C₂ + Cg)                             2⋅(C₁ + C₂ + Cg)             ⎭"
      ]
     },
     "execution_count": 26,
     "metadata": {},
     "output_type": "execute_result"
    }
   ],
   "source": [
    "sympy.solve([x,y,z], [q1, q2, qg])"
   ]
  },
  {
   "cell_type": "code",
   "execution_count": null,
   "metadata": {},
   "outputs": [],
   "source": []
  }
 ],
 "metadata": {
  "kernelspec": {
   "display_name": "Python 3",
   "language": "python",
   "name": "python3"
  },
  "language_info": {
   "codemirror_mode": {
    "name": "ipython",
    "version": 3
   },
   "file_extension": ".py",
   "mimetype": "text/x-python",
   "name": "python",
   "nbconvert_exporter": "python",
   "pygments_lexer": "ipython3",
   "version": "3.6.5"
  }
 },
 "nbformat": 4,
 "nbformat_minor": 2
}
